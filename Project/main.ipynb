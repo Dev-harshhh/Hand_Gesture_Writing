{
 "cells": [
  {
   "cell_type": "code",
   "execution_count": 1,
   "metadata": {},
   "outputs": [
    {
     "name": "stdout",
     "output_type": "stream",
     "text": [
      "Warning: Could not load image .DS_Store in homepagePath\n",
      "WARNING: All log messages before absl::InitializeLog() is called are written to STDERR\n",
      "I0000 00:00:1734200121.330470  451757 gl_context.cc:357] GL version: 2.1 (2.1 Metal - 89.3), renderer: Apple M1\n",
      "INFO: Created TensorFlow Lite XNNPACK delegate for CPU.\n",
      "W0000 00:00:1734200121.362378  452221 inference_feedback_manager.cc:114] Feedback manager requires a model with a single signature inference. Disabling support for feedback tensors.\n",
      "W0000 00:00:1734200121.371895  452220 inference_feedback_manager.cc:114] Feedback manager requires a model with a single signature inference. Disabling support for feedback tensors.\n",
      "2024-12-14 23:45:22.256 python[25157:451757] +[IMKClient subclass]: chose IMKClient_Modern\n",
      "2024-12-14 23:45:22.256 python[25157:451757] +[IMKInputSession subclass]: chose IMKInputSession_Modern\n",
      "W0000 00:00:1734200124.406612  452219 landmark_projection_calculator.cc:186] Using NORM_RECT without IMAGE_DIMENSIONS is only supported for the square ROI. Provide IMAGE_DIMENSIONS or use PROJECTION_MATRIX.\n",
      "/opt/anaconda3/envs/myenv/lib/python3.10/site-packages/google/protobuf/symbol_database.py:55: UserWarning: SymbolDatabase.GetPrototype() is deprecated. Please use message_factory.GetMessageClass() instead. SymbolDatabase.GetPrototype() will be removed soon.\n",
      "  warnings.warn('SymbolDatabase.GetPrototype() is deprecated. Please '\n",
      "^C\n",
      "Traceback (most recent call last):\n",
      "  File \"/Users/hacker/Desktop/Project/Deploy.py\", line 170, in <module>\n",
      "    main()\n",
      "  File \"/Users/hacker/Desktop/Project/Deploy.py\", line 163, in main\n",
      "    if cv2.waitKey(20) & 0xFF == ord('x'):\n",
      "KeyboardInterrupt\n"
     ]
    }
   ],
   "source": [
    "!python Deploy.py"
   ]
  }
 ],
 "metadata": {
  "kernelspec": {
   "display_name": "myenv",
   "language": "python",
   "name": "python3"
  },
  "language_info": {
   "codemirror_mode": {
    "name": "ipython",
    "version": 3
   },
   "file_extension": ".py",
   "mimetype": "text/x-python",
   "name": "python",
   "nbconvert_exporter": "python",
   "pygments_lexer": "ipython3",
   "version": "3.10.14"
  }
 },
 "nbformat": 4,
 "nbformat_minor": 2
}
